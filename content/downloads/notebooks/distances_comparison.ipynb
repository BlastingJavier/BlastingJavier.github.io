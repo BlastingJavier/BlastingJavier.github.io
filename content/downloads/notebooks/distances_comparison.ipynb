{
 "metadata": {
  "language_info": {
   "codemirror_mode": {
    "name": "ipython",
    "version": 3
   },
   "file_extension": ".py",
   "mimetype": "text/x-python",
   "name": "python",
   "nbconvert_exporter": "python",
   "pygments_lexer": "ipython3",
   "version": 3
  },
  "orig_nbformat": 2
 },
 "nbformat": 4,
 "nbformat_minor": 2,
 "cells": [
  {
   "cell_type": "markdown",
   "metadata": {},
   "source": [
    "# La Importancia de las distancias en KNN."
   ]
  },
  {
   "cell_type": "markdown",
   "metadata": {},
   "source": [
    "El algoritmo KNN es uno de los algoritmos mas simples y comunes tanto para la funcion de clasificar[1] como de regresion[2].\n",
    "\n",
    "Dicho algoritmo se basa en como medimos la distancia entre los ejemplos de entrenamiento y de testing.\n",
    "\n",
    "Partiendo de esto ultimo, surje una pregunta muy comun, que distancia de entre las muchas que hay elegiremos y en que casos?.\n",
    "\n",
    "Este notebook presenta algunas de las distancias mas comunes que tenemos y alguna que no lo es tanto, compararemos el uso de dichas distancias explicandolas una a una y las enfrentaremos a diferentes datasets de referencia para ver como resuelven el problema planteado."
   ]
  },
  {
   "cell_type": "markdown",
   "metadata": {},
   "source": [
    "KNN ha sido estudiado durante los ultimos anos como un algoritmo de referencia a la hora de comparar algoritmos, sus usos mas comunes son la categorizacion de textos[3], ranking models[4], deteccion de objetos y eventos[5] y optimizacion de Ensembles[6]. \n",
    "\n",
    "KNN es un algoritmo no parametrico lo cual implica que dicho  modelo no tiene parametros o que tiene un numero de parametros que es independiente del tamano de los datos de entrenamiento y por lo tanto dichos parametros fijados dependen del tamano del conjunto de entrenamiento.\n",
    "\n",
    "Esto supone una ventaja muy clara, a mayor cantidad de datos tengamos el algoritmo tendra un mejor desepeno a la hora de captar la senal.\n",
    "\n",
    "Nota: Siempre en la creacion de modelos tenemos que tener en cuenta varios tradeoffs existentes en la eleccion de los mismos, unos de los que mas relevancia tiene es el bias-variance tradeoff."
   ]
  },
  {
   "cell_type": "code",
   "execution_count": null,
   "metadata": {},
   "outputs": [],
   "source": []
  }
 ]
}